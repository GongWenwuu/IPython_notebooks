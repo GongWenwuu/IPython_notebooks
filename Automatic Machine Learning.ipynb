{
 "cells": [
  {
   "cell_type": "markdown",
   "metadata": {},
   "source": [
    "****\n",
    "# Auto-Machine Learning Model Selection using GridSearchCV\n",
    "****\n",
    "<p style=\"text-align: right\"><i>Jesus Perez Colino<br>First version: November 2018<br></i></p>\n",
    "\n",
    "## About this notebook: \n",
    "****\n",
    "Notebook prepared by **Jesus Perez Colino** Version 0.2, First Released: 25/11/2018, Alpha\n",
    "\n",
    "- This work is licensed under a [Creative Commons Attribution-ShareAlike 3.0 Unported License](http://creativecommons.org/licenses/by-sa/3.0/deed.en_US). This work is offered for free, with the hope that it will be useful.\n",
    "\n",
    "\n",
    "- **Summary**: \n",
    "\n",
    ">This notebook aim to give a simple example of how to build an automatic machine learning system to quickly build, assess and test locally (using multiporcessing in Scikit-learn) several hundreds of Machine Leaning models versions for predictions. Model selection by 'brut force'.\n",
    "\n",
    "- **Index**: \n",
    "    1. Feature engineering using pipelines with pandas\n",
    "    2. Automatic Machine Learning Model estimation using GridSearchCV\n",
    "    3. Results"
   ]
  },
  {
   "cell_type": "code",
   "execution_count": 7,
   "metadata": {},
   "outputs": [],
   "source": [
    "%matplotlib inline\n",
    "\n",
    "import numpy as np\n",
    "import pandas as pd\n",
    "import matplotlib.pyplot as plt\n",
    "from pylab import rcParams\n",
    "rcParams['figure.figsize'] = 20, 10\n",
    "\n",
    "from sklearn.preprocessing import OneHotEncoder, LabelEncoder\n",
    "from sklearn.svm import SVC\n",
    "from sklearn.pipeline import Pipeline\n",
    "from sklearn.preprocessing import StandardScaler\n",
    "from sklearn.ensemble import AdaBoostClassifier\n",
    "from sklearn.tree import DecisionTreeClassifier\n",
    "from sklearn.metrics import accuracy_score\n",
    "from sklearn.model_selection import GridSearchCV\n",
    "from sklearn.model_selection import cross_val_score\n",
    "from sklearn.linear_model import LogisticRegression\n",
    "from sklearn.ensemble import RandomForestClassifier\n",
    "from sklearn.ensemble import VotingClassifier\n",
    "from sklearn.model_selection import cross_val_score\n",
    "from sklearn.naive_bayes import GaussianNB\n",
    "from sklearn.ensemble import GradientBoostingClassifier\n",
    "import logging\n",
    "logging.basicConfig(format=\"%(asctime)s - [%(levelname)5s] - %(message)s\", datefmt='%H:%M:%S')\n",
    "root_logger = logging.getLogger()\n",
    "root_logger.setLevel(logging.INFO)\n",
    "import watermark\n",
    "import datetime as dt\n",
    "import warnings\n",
    "warnings.filterwarnings('ignore')"
   ]
  },
  {
   "cell_type": "code",
   "execution_count": 8,
   "metadata": {},
   "outputs": [
    {
     "name": "stdout",
     "output_type": "stream",
     "text": [
      "The watermark extension is already loaded. To reload it, use:\n",
      "  %reload_ext watermark\n",
      "-------------------- Reproducibility conditions for this notebook -------------------\n",
      "Sun Feb 16 2020 \n",
      "\n",
      "CPython 3.6.10\n",
      "IPython 7.12.0\n",
      "\n",
      "numpy 1.18.1\n",
      "scipy 1.4.1\n",
      "matplotlib 3.1.3\n",
      "pandas 1.0.1\n",
      "sklearn 0.22.1\n",
      "\n",
      "compiler   : MSC v.1916 64 bit (AMD64)\n",
      "system     : Windows\n",
      "release    : 10\n",
      "machine    : AMD64\n",
      "processor  : Intel64 Family 6 Model 94 Stepping 3, GenuineIntel\n",
      "CPU cores  : 8\n",
      "interpreter: 64bit\n",
      "-------------------------------------------------------------------------------------\n"
     ]
    }
   ],
   "source": [
    "%load_ext watermark\n",
    "print(' Reproducibility conditions for this notebook '.center(85,'-'))\n",
    "%watermark -n -v -m -p numpy,scipy,matplotlib,pandas,sklearn\n",
    "print('-'*85)"
   ]
  },
  {
   "cell_type": "markdown",
   "metadata": {},
   "source": [
    "# 1. Feature engineering using pipelines in pandas"
   ]
  },
  {
   "cell_type": "code",
   "execution_count": 9,
   "metadata": {},
   "outputs": [],
   "source": [
    "file_path_train = r\"C:\\Users\\admin\\Documents\\Exercise_train.csv\"\n",
    "file_path_test = r\"C:\\Users\\admin\\Documents\\Exercise_test.csv\"\n",
    "\n",
    "training_df = pd.read_csv(file_path_train)\n",
    "testing_df = pd.read_csv(file_path_test)"
   ]
  },
  {
   "cell_type": "code",
   "execution_count": 10,
   "metadata": {},
   "outputs": [],
   "source": [
    "# Decorator to log the time of data transformations\n",
    "\n",
    "def timelog(f):\n",
    "    def wrapper(dataf, *args, **kargs):\n",
    "        tic = dt.datetime.now()\n",
    "        result = f(dataf, *args, **kargs)\n",
    "        toc = dt.datetime.now()\n",
    "        if isinstance(result, pd.DataFrame) | isinstance(result, pd.Series) : status = 'OK'\n",
    "        else: status = 'Check the function output'\n",
    "        logging.info(f\"{f.__name__} took {toc - tic} with result size = {result.shape} --> {status}\")\n",
    "        return result\n",
    "    return wrapper "
   ]
  },
  {
   "cell_type": "code",
   "execution_count": 11,
   "metadata": {},
   "outputs": [],
   "source": [
    "@timelog\n",
    "def start_pipeline(raw_df):\n",
    "    return raw_df.copy()\n",
    "\n",
    "@timelog\n",
    "def clean_data(raw_df):\n",
    "    name_columns = ['X{}'.format(i) for i in range(len(raw_df.columns)-1)]\n",
    "    name_columns.append('poor')\n",
    "    df = pd.DataFrame(raw_df.values,\n",
    "                  index = raw_df.id, \n",
    "                  columns = name_columns)\n",
    "    df_clean = df.iloc[:, 2:].dropna()\n",
    "    return df_clean\n",
    "\n",
    "@timelog\n",
    "def type_data(df_clean):\n",
    "    types_dict = {'X2':str, 'X3':str, 'X4':str, 'X5':str, \n",
    "                  'X6':np.float64, 'X7':np.float64, 'X8':np.float64, 'X9':np.float64, \n",
    "                  'poor':bool}\n",
    "    for col, col_type in types_dict.items():\n",
    "        df_clean[col] = df_clean[col].astype(col_type)\n",
    "    return df_clean\n",
    "    \n",
    "\n",
    "@timelog\n",
    "def one_hot_encoder(df):\n",
    "    X_string = df.select_dtypes(exclude = ['float64', bool])\n",
    "    for column_to_encode in X_string.columns:\n",
    "        X_string = pd.concat([X_string, pd.get_dummies(X_string[column_to_encode])],axis=1)\n",
    "\n",
    "    X_string = X_string.drop(X_string.select_dtypes(include = object), axis = 1)\n",
    "    X_1hot= pd.concat([X_string, df.iloc[:,:-1].select_dtypes(include='float64')], axis = 1)\n",
    "    return X_1hot\n",
    "\n",
    "@timelog\n",
    "def std_scaler(df):\n",
    "    sc =StandardScaler()\n",
    "    df_sc = pd.DataFrame(sc.fit_transform(df.select_dtypes(include = ['float64'])),\n",
    "                         columns=df.select_dtypes(include = ['float64']).columns)\n",
    "    df[df.select_dtypes(include = ['float64']).columns]=df_sc.values\n",
    "    return df\n",
    "\n",
    "@timelog\n",
    "def min_max_scaler(df):\n",
    "    mm = MinMaxScaler()\n",
    "    df_mm = pd.DataFrame(mm.fit_transform(df.select_dtypes(include = ['float64'])),\n",
    "                         columns=df.select_dtypes(include = ['float64']).columns)\n",
    "    df[df.select_dtypes(include = ['float64']).columns]=df_mm.values\n",
    "    return df\n",
    "\n",
    "@timelog\n",
    "def get_target(df):\n",
    "    y = df.iloc[:,-1]\n",
    "    y, y_categ = y.factorize()\n",
    "    return y\n"
   ]
  },
  {
   "cell_type": "code",
   "execution_count": 12,
   "metadata": {},
   "outputs": [
    {
     "name": "stderr",
     "output_type": "stream",
     "text": [
      "17:01:44 - [ INFO] - start_pipeline took 0:00:00.000982 with result size = (6562, 11) --> OK\n",
      "17:01:44 - [ INFO] - clean_data took 0:00:00.020982 with result size = (5132, 9) --> OK\n",
      "17:01:44 - [ INFO] - type_data took 0:00:00.013945 with result size = (5132, 9) --> OK\n",
      "17:01:44 - [ INFO] - one_hot_encoder took 0:00:00.026927 with result size = (5132, 54) --> OK\n",
      "17:01:44 - [ INFO] - std_scaler took 0:00:00.010971 with result size = (5132, 54) --> OK\n"
     ]
    }
   ],
   "source": [
    "X_training_df = (training_df\n",
    "                 .pipe(start_pipeline)\n",
    "                 .pipe(clean_data)\n",
    "                 .pipe(type_data)\n",
    "                 .pipe(one_hot_encoder)\n",
    "                 .pipe(std_scaler))"
   ]
  },
  {
   "cell_type": "code",
   "execution_count": 13,
   "metadata": {},
   "outputs": [
    {
     "name": "stderr",
     "output_type": "stream",
     "text": [
      "17:01:44 - [ INFO] - start_pipeline took 0:00:00.000997 with result size = (1641, 11) --> OK\n",
      "17:01:44 - [ INFO] - clean_data took 0:00:00.007979 with result size = (1295, 9) --> OK\n",
      "17:01:44 - [ INFO] - type_data took 0:00:00.006979 with result size = (1295, 9) --> OK\n",
      "17:01:44 - [ INFO] - one_hot_encoder took 0:00:00.014003 with result size = (1295, 54) --> OK\n",
      "17:01:44 - [ INFO] - std_scaler took 0:00:00.007980 with result size = (1295, 54) --> OK\n"
     ]
    }
   ],
   "source": [
    "X_testing_df = (testing_df\n",
    "                 .pipe(start_pipeline)\n",
    "                 .pipe(clean_data)\n",
    "                 .pipe(type_data)\n",
    "                 .pipe(one_hot_encoder)\n",
    "                 .pipe(std_scaler))"
   ]
  },
  {
   "cell_type": "code",
   "execution_count": 14,
   "metadata": {},
   "outputs": [
    {
     "name": "stderr",
     "output_type": "stream",
     "text": [
      "17:01:44 - [ INFO] - start_pipeline took 0:00:00.000997 with result size = (6562, 11) --> OK\n",
      "17:01:44 - [ INFO] - clean_data took 0:00:00.017952 with result size = (5132, 9) --> OK\n",
      "17:01:44 - [ INFO] - type_data took 0:00:00.007979 with result size = (5132, 9) --> OK\n",
      "17:01:44 - [ INFO] - get_target took 0:00:00.005984 with result size = (5132,) --> Check the function output\n"
     ]
    }
   ],
   "source": [
    "Y_training_df = (training_df\n",
    "                 .pipe(start_pipeline)\n",
    "                 .pipe(clean_data)\n",
    "                 .pipe(type_data)\n",
    "                 .pipe(get_target))"
   ]
  },
  {
   "cell_type": "code",
   "execution_count": 15,
   "metadata": {},
   "outputs": [
    {
     "name": "stderr",
     "output_type": "stream",
     "text": [
      "17:01:45 - [ INFO] - start_pipeline took 0:00:00.001001 with result size = (1641, 11) --> OK\n",
      "17:01:45 - [ INFO] - clean_data took 0:00:00.009976 with result size = (1295, 9) --> OK\n",
      "17:01:45 - [ INFO] - type_data took 0:00:00.006984 with result size = (1295, 9) --> OK\n",
      "17:01:45 - [ INFO] - get_target took 0:00:00.000997 with result size = (1295,) --> Check the function output\n"
     ]
    }
   ],
   "source": [
    "Y_testing_df = (testing_df\n",
    "                 .pipe(start_pipeline)\n",
    "                 .pipe(clean_data)\n",
    "                 .pipe(type_data)\n",
    "                 .pipe(get_target))"
   ]
  },
  {
   "cell_type": "markdown",
   "metadata": {},
   "source": [
    "# 2. Automatic Machine Learning Model estimation using GridSearchCV"
   ]
  },
  {
   "cell_type": "code",
   "execution_count": 16,
   "metadata": {},
   "outputs": [],
   "source": [
    "class EstimatorSelectionHelper:\n",
    "\n",
    "    def __init__(self, models, params):\n",
    "        if not set(models.keys()).issubset(set(params.keys())):\n",
    "            missing_params = list(set(models.keys()) - set(params.keys()))\n",
    "            raise ValueError(\"Some models have missing parameters: %s\" % missing_params)\n",
    "        self.models = models\n",
    "        self.params = params\n",
    "        self.keys = models.keys()\n",
    "        self.grid_searches = {}\n",
    "        \n",
    "    def fit(self, X, y, cv=5, n_jobs=-1, verbose=1, scoring=None, refit=False):\n",
    "        for key in self.keys:\n",
    "            print(f'Running GridSearchCV for {key}')\n",
    "            model = self.models[key]\n",
    "            params = self.params[key]\n",
    "            gs = GridSearchCV(model, params, cv=cv, n_jobs=n_jobs,\n",
    "                              verbose=verbose, scoring=scoring, refit=refit,\n",
    "                              return_train_score=True)\n",
    "            gs.fit(X,y)\n",
    "            self.grid_searches[key] = gs    \n",
    "\n",
    "    def score_summary(self, sort_by='mean_score'):\n",
    "        def row(key, scores, params):\n",
    "            d = {\n",
    "                 'estimator': key,\n",
    "                 'min_score': min(scores),\n",
    "                 'max_score': max(scores),\n",
    "                 'mean_score': np.mean(scores),\n",
    "                 'std_score': np.std(scores),\n",
    "            }\n",
    "            return pd.Series({**params,**d})\n",
    "\n",
    "        rows = []\n",
    "        for k in self.grid_searches:\n",
    "            params = self.grid_searches[k].cv_results_['params']\n",
    "            scores = []\n",
    "            for i in range(self.grid_searches[k].cv):\n",
    "                key = \"split{}_test_score\".format(i)\n",
    "                r = self.grid_searches[k].cv_results_[key]        \n",
    "                scores.append(r.reshape(len(params),1))\n",
    "\n",
    "            all_scores = np.hstack(scores)\n",
    "            for p, s in zip(params,all_scores):\n",
    "                rows.append((row(k, s, p)))\n",
    "\n",
    "        df = pd.concat(rows, axis=1).T.sort_values([sort_by], ascending=False)\n",
    "\n",
    "        columns = ['estimator', 'min_score', 'mean_score', 'max_score', 'std_score']\n",
    "        columns = columns + [c for c in df.columns if c not in columns]\n",
    "\n",
    "        return df[columns]"
   ]
  },
  {
   "cell_type": "code",
   "execution_count": 17,
   "metadata": {},
   "outputs": [],
   "source": [
    "models1 = {\n",
    "    'LogisticRegression': LogisticRegression(),\n",
    "    'GradientBoostingClassifier': GradientBoostingClassifier(),\n",
    "    'AdaBoostClassifier': AdaBoostClassifier(),\n",
    "    'SVC': SVC()\n",
    "}"
   ]
  },
  {
   "cell_type": "code",
   "execution_count": 18,
   "metadata": {},
   "outputs": [],
   "source": [
    "params1 = {\n",
    "    'LogisticRegression': {'penalty': ['l1','l2'], \n",
    "                           'C': np.linspace(1, 20, 5), \n",
    "                           'random_state': [123]},\n",
    "    'GradientBoostingClassifier': {'n_estimators': np.linspace(1,500,5,dtype=int), \n",
    "                                'learning_rate':  np.linspace(0.0001,1,5), \n",
    "                                'max_depth' : [1,2,3], \n",
    "                                'random_state': [123]},\n",
    "    'AdaBoostClassifier': {#'base_estimator' : ['DecisionTreeClassifier()'], \n",
    "                           'n_estimators' : np.linspace(40,100,5,dtype=int),\n",
    "                           'algorithm' : [\"SAMME.R\"], \n",
    "                           'learning_rate' : np.linspace(0.0001,50,5), \n",
    "                           'random_state':[123]},\n",
    "    'SVC': {'kernel': ['rbf', 'linear'], \n",
    "            'gamma':np.linspace(4,8,5,dtype=int),\n",
    "            'C': np.linspace(0.001, 10, 5), \n",
    "            'random_state': [123]}\n",
    "}"
   ]
  },
  {
   "cell_type": "code",
   "execution_count": 19,
   "metadata": {},
   "outputs": [
    {
     "name": "stderr",
     "output_type": "stream",
     "text": [
      "[Parallel(n_jobs=-1)]: Using backend LokyBackend with 8 concurrent workers.\n"
     ]
    },
    {
     "name": "stdout",
     "output_type": "stream",
     "text": [
      "Running GridSearchCV for LogisticRegression\n",
      "Fitting 5 folds for each of 10 candidates, totalling 50 fits\n"
     ]
    },
    {
     "name": "stderr",
     "output_type": "stream",
     "text": [
      "[Parallel(n_jobs=-1)]: Done  34 tasks      | elapsed:    2.5s\n",
      "[Parallel(n_jobs=-1)]: Done  50 out of  50 | elapsed:    2.7s finished\n",
      "[Parallel(n_jobs=-1)]: Using backend LokyBackend with 8 concurrent workers.\n"
     ]
    },
    {
     "name": "stdout",
     "output_type": "stream",
     "text": [
      "Running GridSearchCV for GradientBoostingClassifier\n",
      "Fitting 5 folds for each of 75 candidates, totalling 375 fits\n"
     ]
    },
    {
     "name": "stderr",
     "output_type": "stream",
     "text": [
      "[Parallel(n_jobs=-1)]: Done  52 tasks      | elapsed:    9.1s\n",
      "[Parallel(n_jobs=-1)]: Done 208 tasks      | elapsed:   41.4s\n",
      "[Parallel(n_jobs=-1)]: Done 375 out of 375 | elapsed:  1.4min finished\n",
      "[Parallel(n_jobs=-1)]: Using backend LokyBackend with 8 concurrent workers.\n"
     ]
    },
    {
     "name": "stdout",
     "output_type": "stream",
     "text": [
      "Running GridSearchCV for AdaBoostClassifier\n",
      "Fitting 5 folds for each of 25 candidates, totalling 125 fits\n"
     ]
    },
    {
     "name": "stderr",
     "output_type": "stream",
     "text": [
      "[Parallel(n_jobs=-1)]: Done  34 tasks      | elapsed:    3.0s\n",
      "[Parallel(n_jobs=-1)]: Done 125 out of 125 | elapsed:    6.2s finished\n",
      "[Parallel(n_jobs=-1)]: Using backend LokyBackend with 8 concurrent workers.\n"
     ]
    },
    {
     "name": "stdout",
     "output_type": "stream",
     "text": [
      "Running GridSearchCV for SVC\n",
      "Fitting 5 folds for each of 50 candidates, totalling 250 fits\n"
     ]
    },
    {
     "name": "stderr",
     "output_type": "stream",
     "text": [
      "[Parallel(n_jobs=-1)]: Done  34 tasks      | elapsed:   21.3s\n",
      "[Parallel(n_jobs=-1)]: Done 184 tasks      | elapsed:  1.9min\n",
      "[Parallel(n_jobs=-1)]: Done 250 out of 250 | elapsed:  2.6min finished\n"
     ]
    }
   ],
   "source": [
    "helper1 = EstimatorSelectionHelper(models1, params1)\n",
    "helper1.fit(X_training_df, Y_training_df, scoring='f1', n_jobs=-1)"
   ]
  },
  {
   "cell_type": "markdown",
   "metadata": {},
   "source": [
    "# 3. Results"
   ]
  },
  {
   "cell_type": "code",
   "execution_count": 20,
   "metadata": {},
   "outputs": [
    {
     "data": {
      "text/html": [
       "<div>\n",
       "<style scoped>\n",
       "    .dataframe tbody tr th:only-of-type {\n",
       "        vertical-align: middle;\n",
       "    }\n",
       "\n",
       "    .dataframe tbody tr th {\n",
       "        vertical-align: top;\n",
       "    }\n",
       "\n",
       "    .dataframe thead th {\n",
       "        text-align: right;\n",
       "    }\n",
       "</style>\n",
       "<table border=\"1\" class=\"dataframe\">\n",
       "  <thead>\n",
       "    <tr style=\"text-align: right;\">\n",
       "      <th></th>\n",
       "      <th>estimator</th>\n",
       "      <th>min_score</th>\n",
       "      <th>mean_score</th>\n",
       "      <th>max_score</th>\n",
       "      <th>std_score</th>\n",
       "      <th>C</th>\n",
       "      <th>penalty</th>\n",
       "      <th>random_state</th>\n",
       "      <th>learning_rate</th>\n",
       "      <th>max_depth</th>\n",
       "      <th>n_estimators</th>\n",
       "      <th>algorithm</th>\n",
       "      <th>gamma</th>\n",
       "      <th>kernel</th>\n",
       "    </tr>\n",
       "  </thead>\n",
       "  <tbody>\n",
       "    <tr>\n",
       "      <th>26</th>\n",
       "      <td>GradientBoostingClassifier</td>\n",
       "      <td>0.776699</td>\n",
       "      <td>0.782906</td>\n",
       "      <td>0.802817</td>\n",
       "      <td>0.0100112</td>\n",
       "      <td>NaN</td>\n",
       "      <td>NaN</td>\n",
       "      <td>123</td>\n",
       "      <td>0.250075</td>\n",
       "      <td>1</td>\n",
       "      <td>125</td>\n",
       "      <td>NaN</td>\n",
       "      <td>NaN</td>\n",
       "      <td>NaN</td>\n",
       "    </tr>\n",
       "    <tr>\n",
       "      <th>71</th>\n",
       "      <td>GradientBoostingClassifier</td>\n",
       "      <td>0.772365</td>\n",
       "      <td>0.782459</td>\n",
       "      <td>0.797178</td>\n",
       "      <td>0.00833114</td>\n",
       "      <td>NaN</td>\n",
       "      <td>NaN</td>\n",
       "      <td>123</td>\n",
       "      <td>1</td>\n",
       "      <td>1</td>\n",
       "      <td>125</td>\n",
       "      <td>NaN</td>\n",
       "      <td>NaN</td>\n",
       "      <td>NaN</td>\n",
       "    </tr>\n",
       "    <tr>\n",
       "      <th>28</th>\n",
       "      <td>GradientBoostingClassifier</td>\n",
       "      <td>0.772767</td>\n",
       "      <td>0.781844</td>\n",
       "      <td>0.796117</td>\n",
       "      <td>0.00769647</td>\n",
       "      <td>NaN</td>\n",
       "      <td>NaN</td>\n",
       "      <td>123</td>\n",
       "      <td>0.250075</td>\n",
       "      <td>1</td>\n",
       "      <td>375</td>\n",
       "      <td>NaN</td>\n",
       "      <td>NaN</td>\n",
       "      <td>NaN</td>\n",
       "    </tr>\n",
       "    <tr>\n",
       "      <th>56</th>\n",
       "      <td>GradientBoostingClassifier</td>\n",
       "      <td>0.77551</td>\n",
       "      <td>0.781293</td>\n",
       "      <td>0.795053</td>\n",
       "      <td>0.00712458</td>\n",
       "      <td>NaN</td>\n",
       "      <td>NaN</td>\n",
       "      <td>123</td>\n",
       "      <td>0.750025</td>\n",
       "      <td>1</td>\n",
       "      <td>125</td>\n",
       "      <td>NaN</td>\n",
       "      <td>NaN</td>\n",
       "      <td>NaN</td>\n",
       "    </tr>\n",
       "    <tr>\n",
       "      <th>7</th>\n",
       "      <td>LogisticRegression</td>\n",
       "      <td>0.770723</td>\n",
       "      <td>0.77998</td>\n",
       "      <td>0.794401</td>\n",
       "      <td>0.00888445</td>\n",
       "      <td>15.25</td>\n",
       "      <td>l2</td>\n",
       "      <td>123</td>\n",
       "      <td>NaN</td>\n",
       "      <td>NaN</td>\n",
       "      <td>NaN</td>\n",
       "      <td>NaN</td>\n",
       "      <td>NaN</td>\n",
       "      <td>NaN</td>\n",
       "    </tr>\n",
       "    <tr>\n",
       "      <th>...</th>\n",
       "      <td>...</td>\n",
       "      <td>...</td>\n",
       "      <td>...</td>\n",
       "      <td>...</td>\n",
       "      <td>...</td>\n",
       "      <td>...</td>\n",
       "      <td>...</td>\n",
       "      <td>...</td>\n",
       "      <td>...</td>\n",
       "      <td>...</td>\n",
       "      <td>...</td>\n",
       "      <td>...</td>\n",
       "      <td>...</td>\n",
       "      <td>...</td>\n",
       "    </tr>\n",
       "    <tr>\n",
       "      <th>0</th>\n",
       "      <td>LogisticRegression</td>\n",
       "      <td>NaN</td>\n",
       "      <td>NaN</td>\n",
       "      <td>NaN</td>\n",
       "      <td>NaN</td>\n",
       "      <td>1</td>\n",
       "      <td>l1</td>\n",
       "      <td>123</td>\n",
       "      <td>NaN</td>\n",
       "      <td>NaN</td>\n",
       "      <td>NaN</td>\n",
       "      <td>NaN</td>\n",
       "      <td>NaN</td>\n",
       "      <td>NaN</td>\n",
       "    </tr>\n",
       "    <tr>\n",
       "      <th>2</th>\n",
       "      <td>LogisticRegression</td>\n",
       "      <td>NaN</td>\n",
       "      <td>NaN</td>\n",
       "      <td>NaN</td>\n",
       "      <td>NaN</td>\n",
       "      <td>5.75</td>\n",
       "      <td>l1</td>\n",
       "      <td>123</td>\n",
       "      <td>NaN</td>\n",
       "      <td>NaN</td>\n",
       "      <td>NaN</td>\n",
       "      <td>NaN</td>\n",
       "      <td>NaN</td>\n",
       "      <td>NaN</td>\n",
       "    </tr>\n",
       "    <tr>\n",
       "      <th>4</th>\n",
       "      <td>LogisticRegression</td>\n",
       "      <td>NaN</td>\n",
       "      <td>NaN</td>\n",
       "      <td>NaN</td>\n",
       "      <td>NaN</td>\n",
       "      <td>10.5</td>\n",
       "      <td>l1</td>\n",
       "      <td>123</td>\n",
       "      <td>NaN</td>\n",
       "      <td>NaN</td>\n",
       "      <td>NaN</td>\n",
       "      <td>NaN</td>\n",
       "      <td>NaN</td>\n",
       "      <td>NaN</td>\n",
       "    </tr>\n",
       "    <tr>\n",
       "      <th>6</th>\n",
       "      <td>LogisticRegression</td>\n",
       "      <td>NaN</td>\n",
       "      <td>NaN</td>\n",
       "      <td>NaN</td>\n",
       "      <td>NaN</td>\n",
       "      <td>15.25</td>\n",
       "      <td>l1</td>\n",
       "      <td>123</td>\n",
       "      <td>NaN</td>\n",
       "      <td>NaN</td>\n",
       "      <td>NaN</td>\n",
       "      <td>NaN</td>\n",
       "      <td>NaN</td>\n",
       "      <td>NaN</td>\n",
       "    </tr>\n",
       "    <tr>\n",
       "      <th>8</th>\n",
       "      <td>LogisticRegression</td>\n",
       "      <td>NaN</td>\n",
       "      <td>NaN</td>\n",
       "      <td>NaN</td>\n",
       "      <td>NaN</td>\n",
       "      <td>20</td>\n",
       "      <td>l1</td>\n",
       "      <td>123</td>\n",
       "      <td>NaN</td>\n",
       "      <td>NaN</td>\n",
       "      <td>NaN</td>\n",
       "      <td>NaN</td>\n",
       "      <td>NaN</td>\n",
       "      <td>NaN</td>\n",
       "    </tr>\n",
       "  </tbody>\n",
       "</table>\n",
       "<p>160 rows × 14 columns</p>\n",
       "</div>"
      ],
      "text/plain": [
       "                     estimator min_score mean_score max_score   std_score  \\\n",
       "26  GradientBoostingClassifier  0.776699   0.782906  0.802817   0.0100112   \n",
       "71  GradientBoostingClassifier  0.772365   0.782459  0.797178  0.00833114   \n",
       "28  GradientBoostingClassifier  0.772767   0.781844  0.796117  0.00769647   \n",
       "56  GradientBoostingClassifier   0.77551   0.781293  0.795053  0.00712458   \n",
       "7           LogisticRegression  0.770723    0.77998  0.794401  0.00888445   \n",
       "..                         ...       ...        ...       ...         ...   \n",
       "0           LogisticRegression       NaN        NaN       NaN         NaN   \n",
       "2           LogisticRegression       NaN        NaN       NaN         NaN   \n",
       "4           LogisticRegression       NaN        NaN       NaN         NaN   \n",
       "6           LogisticRegression       NaN        NaN       NaN         NaN   \n",
       "8           LogisticRegression       NaN        NaN       NaN         NaN   \n",
       "\n",
       "        C penalty random_state learning_rate max_depth n_estimators algorithm  \\\n",
       "26    NaN     NaN          123      0.250075         1          125       NaN   \n",
       "71    NaN     NaN          123             1         1          125       NaN   \n",
       "28    NaN     NaN          123      0.250075         1          375       NaN   \n",
       "56    NaN     NaN          123      0.750025         1          125       NaN   \n",
       "7   15.25      l2          123           NaN       NaN          NaN       NaN   \n",
       "..    ...     ...          ...           ...       ...          ...       ...   \n",
       "0       1      l1          123           NaN       NaN          NaN       NaN   \n",
       "2    5.75      l1          123           NaN       NaN          NaN       NaN   \n",
       "4    10.5      l1          123           NaN       NaN          NaN       NaN   \n",
       "6   15.25      l1          123           NaN       NaN          NaN       NaN   \n",
       "8      20      l1          123           NaN       NaN          NaN       NaN   \n",
       "\n",
       "   gamma kernel  \n",
       "26   NaN    NaN  \n",
       "71   NaN    NaN  \n",
       "28   NaN    NaN  \n",
       "56   NaN    NaN  \n",
       "7    NaN    NaN  \n",
       "..   ...    ...  \n",
       "0    NaN    NaN  \n",
       "2    NaN    NaN  \n",
       "4    NaN    NaN  \n",
       "6    NaN    NaN  \n",
       "8    NaN    NaN  \n",
       "\n",
       "[160 rows x 14 columns]"
      ]
     },
     "execution_count": 20,
     "metadata": {},
     "output_type": "execute_result"
    }
   ],
   "source": [
    "helper1.score_summary(sort_by='max_score')"
   ]
  },
  {
   "cell_type": "code",
   "execution_count": 21,
   "metadata": {},
   "outputs": [
    {
     "data": {
      "image/png": "[encoded data removed]",
      "text/plain": [
       "<Figure size 1296x432 with 4 Axes>"
      ]
     },
     "metadata": {},
     "output_type": "display_data"
    }
   ],
   "source": [
    "\n",
    "with plt.style.context(('ggplot')):\n",
    "    fig, ax = plt.subplots(1,4, sharey=True, figsize=[18,6])\n",
    "    for i,model in enumerate(set(helper1.score_summary()['estimator'])):\n",
    "        df_max_score = helper1.score_summary()[helper1.score_summary()['estimator'] == model]['max_score']        \n",
    "        df_max_score.plot.box(ax=ax[i], sym='r.', title=model)\n",
    "        \n",
    "        "
   ]
  },
  {
   "cell_type": "code",
   "execution_count": 22,
   "metadata": {},
   "outputs": [
    {
     "data": {
      "image/png": "[encoded data removed]",
      "text/plain": [
       "<Figure size 1440x720 with 1 Axes>"
      ]
     },
     "metadata": {},
     "output_type": "display_data"
    }
   ],
   "source": [
    "with plt.style.context(('ggplot')):\n",
    "    y = helper1.score_summary()[helper1.score_summary()['estimator']=='GradientBoostingClassifier']['max_score']\n",
    "    x = helper1.score_summary()[helper1.score_summary()['estimator']=='GradientBoostingClassifier']['n_estimators']\n",
    "    plt.scatter(x,y)\n",
    "    plt.title('F1-score in GradientBoosting Classifier vs. number of estimators')"
   ]
  }
 ],
 "metadata": {
  "kernelspec": {
   "display_name": "Python 3",
   "language": "python",
   "name": "python3"
  },
  "language_info": {
   "codemirror_mode": {
    "name": "ipython",
    "version": 3
   },
   "file_extension": ".py",
   "mimetype": "text/x-python",
   "name": "python",
   "nbconvert_exporter": "python",
   "pygments_lexer": "ipython3",
   "version": "3.6.10"
  }
 },
 "nbformat": 4,
 "nbformat_minor": 4
}
