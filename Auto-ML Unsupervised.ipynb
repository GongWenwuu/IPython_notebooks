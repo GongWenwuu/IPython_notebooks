{
 "cells": [
  {
   "cell_type": "markdown",
   "metadata": {},
   "source": [
    "****\n",
    "# Customer Segmentation using Unsupervised Learning\n",
    "****\n",
    "<p style=\"text-align: right\"><i>Jesus Perez Colino<br>First version: Feb. 2020<br></i></p>\n",
    "\n",
    "## About this notebook: \n",
    "****\n",
    "Notebook prepared by **Jesus Perez Colino** Version 0.1, First Released: 15/02/2020, Alpha\n",
    "\n",
    "- This work is licensed under a [Creative Commons Attribution-ShareAlike 3.0 Unported License](http://creativecommons.org/licenses/by-sa/3.0/deed.en_US). This work is offered for free, with the hope that it will be useful.\n",
    "\n",
    "\n",
    "- **Summary**: \n",
    "\n",
    ">This notebook aim to analyse  the publicly available [dataset of Online Retail provided by the UCI](http://archive.ics.uci.edu/ml/datasets/Online+Retail+II) the give a simple example of how to do customer segmentation using unsupervised learning.\n",
    "\n",
    "- **Index**: \n",
    "    1. Building pipelines for data preprocessing\n",
    "    2. Building pipelines to get moments and frequency over total per client_id in weekly scale\n",
    "    3. Optimal number of clusters\n",
    "    4. Churning probabilistic models"
   ]
  },
  {
   "cell_type": "code",
   "execution_count": 1,
   "metadata": {},
   "outputs": [],
   "source": [
    "%matplotlib inline\n",
    "\n",
    "import numpy as np\n",
    "import pandas as pd\n",
    "import datetime as dt\n",
    "import matplotlib.pyplot as plt\n",
    "from pylab import rcParams\n",
    "rcParams['figure.figsize'] = 10, 5\n",
    "\n",
    "from sklearn.preprocessing import StandardScaler\n",
    "from sklearn.pipeline import Pipeline\n",
    "from sklearn.cluster import KMeans, SpectralClustering, AgglomerativeClustering, AffinityPropagation, Birch\n",
    "from sklearn.metrics import silhouette_score\n",
    "\n",
    "import warnings\n",
    "warnings.filterwarnings('ignore')\n",
    "\n",
    "import logging\n",
    "logging.basicConfig(format=\"%(asctime)s - [%(levelname)5s] - %(message)s\", datefmt='%H:%M:%S')\n",
    "root_logger = logging.getLogger()\n",
    "root_logger.setLevel(logging.INFO)"
   ]
  },
  {
   "cell_type": "code",
   "execution_count": 2,
   "metadata": {},
   "outputs": [
    {
     "name": "stdout",
     "output_type": "stream",
     "text": [
      "-------------------- Reproducibility conditions for this notebook -------------------\n",
      "Sun Feb 16 2020 \n",
      "\n",
      "CPython 3.6.10\n",
      "IPython 7.12.0\n",
      "\n",
      "numpy 1.18.1\n",
      "scipy 1.4.1\n",
      "matplotlib 3.1.3\n",
      "pandas 1.0.1\n",
      "sklearn 0.22.1\n",
      "\n",
      "compiler   : MSC v.1916 64 bit (AMD64)\n",
      "system     : Windows\n",
      "release    : 10\n",
      "machine    : AMD64\n",
      "processor  : Intel64 Family 6 Model 94 Stepping 3, GenuineIntel\n",
      "CPU cores  : 8\n",
      "interpreter: 64bit\n",
      "-------------------------------------------------------------------------------------\n"
     ]
    }
   ],
   "source": [
    "%load_ext watermark\n",
    "print(' Reproducibility conditions for this notebook '.center(85,'-'))\n",
    "%watermark -n -v -m -p numpy,scipy,matplotlib,pandas,sklearn\n",
    "print('-'*85)"
   ]
  },
  {
   "cell_type": "markdown",
   "metadata": {},
   "source": [
    "# 1. Building pipelines for data preprocessing"
   ]
  },
  {
   "cell_type": "code",
   "execution_count": 3,
   "metadata": {},
   "outputs": [],
   "source": [
    "url_link = \"http://archive.ics.uci.edu/ml/machine-learning-databases/00502/online_retail_II.xlsx\"\n",
    "data_df = pd.read_excel(url_link)"
   ]
  },
  {
   "cell_type": "code",
   "execution_count": 4,
   "metadata": {},
   "outputs": [],
   "source": [
    "# Logger decorator\n",
    "\n",
    "def timelog(f):\n",
    "    def wrapper(dataf, *args, **kargs):\n",
    "        tic = dt.datetime.now()\n",
    "        result = f(dataf, *args, **kargs)\n",
    "        toc = dt.datetime.now()\n",
    "        if isinstance(result, pd.DataFrame) | isinstance(result, pd.Series) : status = 'OK'\n",
    "        else: status = 'Check the function output'\n",
    "        logging.info(f\"{f.__name__} took {toc - tic} with result size = {result.shape} --> {status}\")\n",
    "        return result\n",
    "    return wrapper  "
   ]
  },
  {
   "cell_type": "code",
   "execution_count": 5,
   "metadata": {},
   "outputs": [],
   "source": [
    "@timelog\n",
    "def start_pipeline(raw_df):\n",
    "    df_clean = raw_df.copy()\n",
    "    return df_clean\n",
    "\n",
    "@timelog\n",
    "def clean_na(raw_df):\n",
    "    df_clean = raw_df.dropna(axis=0, \n",
    "                             subset=['Customer ID'])\n",
    "    return df_clean\n",
    "\n",
    "@timelog\n",
    "def clean_duplicates(raw_df):\n",
    "    indx = raw_df[raw_df.duplicated(keep='first')].index\n",
    "    df_clean = raw_df.drop(index=indx)\n",
    "    return df_clean\n",
    "\n",
    "@timelog\n",
    "def clean_cancelled(raw_df):\n",
    "    indx = raw_df.Invoice[raw_df.Invoice.str.contains('C') == True].index\n",
    "    df_clean = raw_df.drop(index= indx)\n",
    "    return df_clean\n",
    "\n",
    "@timelog\n",
    "def clean_zeros(raw_df):\n",
    "    indx = raw_df.loc[raw_df.Price == 0].index\n",
    "    df_clean = raw_df.drop(index=indx)\n",
    "    return df_clean"
   ]
  },
  {
   "cell_type": "code",
   "execution_count": 6,
   "metadata": {
    "scrolled": true
   },
   "outputs": [
    {
     "name": "stderr",
     "output_type": "stream",
     "text": [
      "11:25:03 - [ INFO] - start_pipeline took 0:00:00.034917 with result size = (525461, 8) --> OK\n",
      "11:25:04 - [ INFO] - clean_na took 0:00:00.059878 with result size = (417534, 8) --> OK\n",
      "11:25:04 - [ INFO] - clean_duplicates took 0:00:00.338095 with result size = (410763, 8) --> OK\n",
      "11:25:04 - [ INFO] - clean_cancelled took 0:00:00.591417 with result size = (400947, 8) --> OK\n",
      "11:25:05 - [ INFO] - clean_zeros took 0:00:00.057884 with result size = (400916, 8) --> OK\n"
     ]
    }
   ],
   "source": [
    "data_clean_df = (data_df.pipe(start_pipeline)\n",
    "                        .pipe(clean_na)\n",
    "                        .pipe(clean_duplicates)\n",
    "                        .pipe(clean_cancelled)\n",
    "                        .pipe(clean_zeros))"
   ]
  },
  {
   "cell_type": "markdown",
   "metadata": {},
   "source": [
    "# 2. Building pipelines to get moments and frequency over total per client_id in weekly scale"
   ]
  },
  {
   "cell_type": "code",
   "execution_count": 7,
   "metadata": {},
   "outputs": [],
   "source": [
    "@timelog\n",
    "def time_customer_matrix(clean_df, frequency = 'W'):\n",
    "    clean_df['Total'] = clean_df['Quantity']*clean_df['Price']\n",
    "    clean_df_by_customer = (clean_df.groupby(['Customer ID','InvoiceDate']).agg({'Total' : 'sum'}))\n",
    "    df = clean_df_by_customer.unstack().T\n",
    "    matrix = df.reset_index(\"InvoiceDate\").set_index(\"InvoiceDate\").resample(frequency , convention='end').sum()\n",
    "    return matrix\n",
    "\n",
    "@timelog\n",
    "def std_scaler(df):\n",
    "    sc = StandardScaler()\n",
    "    df_sc = pd.DataFrame(sc.fit_transform(df), columns=df.columns)\n",
    "    return df_sc\n",
    "\n",
    "@timelog\n",
    "def adjusted_mean(df):\n",
    "    df_mean = pd.DataFrame(df.mean()/df.std(), columns = ['adj_mean'])\n",
    "    return df_mean\n",
    "\n",
    "@timelog\n",
    "def frequency(df):\n",
    "    df_freq = pd.DataFrame(df.astype(bool).sum(axis=0), columns = ['frequency'])\n",
    "    return df_freq\n"
   ]
  },
  {
   "cell_type": "code",
   "execution_count": 8,
   "metadata": {},
   "outputs": [
    {
     "name": "stderr",
     "output_type": "stream",
     "text": [
      "11:25:05 - [ INFO] - start_pipeline took 0:00:00.027964 with result size = (400916, 8) --> OK\n",
      "11:25:05 - [ INFO] - NumExpr defaulting to 8 threads.\n",
      "11:25:07 - [ INFO] - time_customer_matrix took 0:00:02.310812 with result size = (54, 4312) --> OK\n"
     ]
    },
    {
     "data": {
      "text/html": [
       "<div>\n",
       "<style scoped>\n",
       "    .dataframe tbody tr th:only-of-type {\n",
       "        vertical-align: middle;\n",
       "    }\n",
       "\n",
       "    .dataframe tbody tr th {\n",
       "        vertical-align: top;\n",
       "    }\n",
       "\n",
       "    .dataframe thead th {\n",
       "        text-align: right;\n",
       "    }\n",
       "</style>\n",
       "<table border=\"1\" class=\"dataframe\">\n",
       "  <thead>\n",
       "    <tr style=\"text-align: right;\">\n",
       "      <th>Customer ID</th>\n",
       "      <th>12346.0</th>\n",
       "      <th>12347.0</th>\n",
       "      <th>12348.0</th>\n",
       "      <th>12349.0</th>\n",
       "      <th>12351.0</th>\n",
       "      <th>12352.0</th>\n",
       "      <th>12353.0</th>\n",
       "      <th>12355.0</th>\n",
       "      <th>12356.0</th>\n",
       "      <th>12357.0</th>\n",
       "      <th>...</th>\n",
       "      <th>18277.0</th>\n",
       "      <th>18278.0</th>\n",
       "      <th>18279.0</th>\n",
       "      <th>18280.0</th>\n",
       "      <th>18281.0</th>\n",
       "      <th>18283.0</th>\n",
       "      <th>18284.0</th>\n",
       "      <th>18285.0</th>\n",
       "      <th>18286.0</th>\n",
       "      <th>18287.0</th>\n",
       "    </tr>\n",
       "    <tr>\n",
       "      <th>InvoiceDate</th>\n",
       "      <th></th>\n",
       "      <th></th>\n",
       "      <th></th>\n",
       "      <th></th>\n",
       "      <th></th>\n",
       "      <th></th>\n",
       "      <th></th>\n",
       "      <th></th>\n",
       "      <th></th>\n",
       "      <th></th>\n",
       "      <th></th>\n",
       "      <th></th>\n",
       "      <th></th>\n",
       "      <th></th>\n",
       "      <th></th>\n",
       "      <th></th>\n",
       "      <th></th>\n",
       "      <th></th>\n",
       "      <th></th>\n",
       "      <th></th>\n",
       "      <th></th>\n",
       "    </tr>\n",
       "  </thead>\n",
       "  <tbody>\n",
       "    <tr>\n",
       "      <th>2009-12-31</th>\n",
       "      <td>113.50</td>\n",
       "      <td>0.0</td>\n",
       "      <td>0.0</td>\n",
       "      <td>0.00</td>\n",
       "      <td>0.0</td>\n",
       "      <td>0.0</td>\n",
       "      <td>0.0</td>\n",
       "      <td>0.00</td>\n",
       "      <td>0.0</td>\n",
       "      <td>0.0</td>\n",
       "      <td>...</td>\n",
       "      <td>0.00</td>\n",
       "      <td>0.0</td>\n",
       "      <td>0.00</td>\n",
       "      <td>0.0</td>\n",
       "      <td>0.00</td>\n",
       "      <td>0.00</td>\n",
       "      <td>0.0</td>\n",
       "      <td>0.0</td>\n",
       "      <td>462.95</td>\n",
       "      <td>0.00</td>\n",
       "    </tr>\n",
       "    <tr>\n",
       "      <th>2010-01-31</th>\n",
       "      <td>90.00</td>\n",
       "      <td>0.0</td>\n",
       "      <td>0.0</td>\n",
       "      <td>0.00</td>\n",
       "      <td>0.0</td>\n",
       "      <td>0.0</td>\n",
       "      <td>0.0</td>\n",
       "      <td>0.00</td>\n",
       "      <td>0.0</td>\n",
       "      <td>0.0</td>\n",
       "      <td>...</td>\n",
       "      <td>0.00</td>\n",
       "      <td>0.0</td>\n",
       "      <td>0.00</td>\n",
       "      <td>0.0</td>\n",
       "      <td>0.00</td>\n",
       "      <td>0.00</td>\n",
       "      <td>0.0</td>\n",
       "      <td>0.0</td>\n",
       "      <td>0.00</td>\n",
       "      <td>0.00</td>\n",
       "    </tr>\n",
       "    <tr>\n",
       "      <th>2010-02-28</th>\n",
       "      <td>0.00</td>\n",
       "      <td>0.0</td>\n",
       "      <td>0.0</td>\n",
       "      <td>0.00</td>\n",
       "      <td>0.0</td>\n",
       "      <td>0.0</td>\n",
       "      <td>0.0</td>\n",
       "      <td>0.00</td>\n",
       "      <td>0.0</td>\n",
       "      <td>0.0</td>\n",
       "      <td>...</td>\n",
       "      <td>0.00</td>\n",
       "      <td>0.0</td>\n",
       "      <td>0.00</td>\n",
       "      <td>0.0</td>\n",
       "      <td>0.00</td>\n",
       "      <td>96.90</td>\n",
       "      <td>0.0</td>\n",
       "      <td>427.0</td>\n",
       "      <td>0.00</td>\n",
       "      <td>0.00</td>\n",
       "    </tr>\n",
       "    <tr>\n",
       "      <th>2010-03-31</th>\n",
       "      <td>27.05</td>\n",
       "      <td>0.0</td>\n",
       "      <td>0.0</td>\n",
       "      <td>0.00</td>\n",
       "      <td>0.0</td>\n",
       "      <td>0.0</td>\n",
       "      <td>0.0</td>\n",
       "      <td>0.00</td>\n",
       "      <td>0.0</td>\n",
       "      <td>0.0</td>\n",
       "      <td>...</td>\n",
       "      <td>0.00</td>\n",
       "      <td>0.0</td>\n",
       "      <td>0.00</td>\n",
       "      <td>0.0</td>\n",
       "      <td>0.00</td>\n",
       "      <td>235.12</td>\n",
       "      <td>0.0</td>\n",
       "      <td>0.0</td>\n",
       "      <td>0.00</td>\n",
       "      <td>0.00</td>\n",
       "    </tr>\n",
       "    <tr>\n",
       "      <th>2010-04-30</th>\n",
       "      <td>0.00</td>\n",
       "      <td>0.0</td>\n",
       "      <td>0.0</td>\n",
       "      <td>0.00</td>\n",
       "      <td>0.0</td>\n",
       "      <td>0.0</td>\n",
       "      <td>0.0</td>\n",
       "      <td>0.00</td>\n",
       "      <td>0.0</td>\n",
       "      <td>0.0</td>\n",
       "      <td>...</td>\n",
       "      <td>0.00</td>\n",
       "      <td>0.0</td>\n",
       "      <td>0.00</td>\n",
       "      <td>0.0</td>\n",
       "      <td>0.00</td>\n",
       "      <td>0.00</td>\n",
       "      <td>0.0</td>\n",
       "      <td>0.0</td>\n",
       "      <td>0.00</td>\n",
       "      <td>0.00</td>\n",
       "    </tr>\n",
       "    <tr>\n",
       "      <th>2010-05-31</th>\n",
       "      <td>0.00</td>\n",
       "      <td>0.0</td>\n",
       "      <td>0.0</td>\n",
       "      <td>1268.52</td>\n",
       "      <td>0.0</td>\n",
       "      <td>0.0</td>\n",
       "      <td>0.0</td>\n",
       "      <td>488.21</td>\n",
       "      <td>0.0</td>\n",
       "      <td>0.0</td>\n",
       "      <td>...</td>\n",
       "      <td>0.00</td>\n",
       "      <td>0.0</td>\n",
       "      <td>0.00</td>\n",
       "      <td>0.0</td>\n",
       "      <td>120.32</td>\n",
       "      <td>0.00</td>\n",
       "      <td>0.0</td>\n",
       "      <td>0.0</td>\n",
       "      <td>0.00</td>\n",
       "      <td>1071.61</td>\n",
       "    </tr>\n",
       "    <tr>\n",
       "      <th>2010-06-30</th>\n",
       "      <td>0.00</td>\n",
       "      <td>0.0</td>\n",
       "      <td>0.0</td>\n",
       "      <td>0.00</td>\n",
       "      <td>0.0</td>\n",
       "      <td>0.0</td>\n",
       "      <td>0.0</td>\n",
       "      <td>0.00</td>\n",
       "      <td>0.0</td>\n",
       "      <td>0.0</td>\n",
       "      <td>...</td>\n",
       "      <td>0.00</td>\n",
       "      <td>0.0</td>\n",
       "      <td>0.00</td>\n",
       "      <td>0.0</td>\n",
       "      <td>0.00</td>\n",
       "      <td>0.00</td>\n",
       "      <td>0.0</td>\n",
       "      <td>0.0</td>\n",
       "      <td>0.00</td>\n",
       "      <td>0.00</td>\n",
       "    </tr>\n",
       "    <tr>\n",
       "      <th>2010-07-31</th>\n",
       "      <td>142.31</td>\n",
       "      <td>0.0</td>\n",
       "      <td>0.0</td>\n",
       "      <td>0.00</td>\n",
       "      <td>0.0</td>\n",
       "      <td>0.0</td>\n",
       "      <td>0.0</td>\n",
       "      <td>0.00</td>\n",
       "      <td>0.0</td>\n",
       "      <td>0.0</td>\n",
       "      <td>...</td>\n",
       "      <td>0.00</td>\n",
       "      <td>0.0</td>\n",
       "      <td>231.34</td>\n",
       "      <td>0.0</td>\n",
       "      <td>0.00</td>\n",
       "      <td>0.00</td>\n",
       "      <td>0.0</td>\n",
       "      <td>0.0</td>\n",
       "      <td>0.00</td>\n",
       "      <td>0.00</td>\n",
       "    </tr>\n",
       "    <tr>\n",
       "      <th>2010-08-31</th>\n",
       "      <td>0.00</td>\n",
       "      <td>0.0</td>\n",
       "      <td>0.0</td>\n",
       "      <td>0.00</td>\n",
       "      <td>0.0</td>\n",
       "      <td>0.0</td>\n",
       "      <td>0.0</td>\n",
       "      <td>0.00</td>\n",
       "      <td>0.0</td>\n",
       "      <td>0.0</td>\n",
       "      <td>...</td>\n",
       "      <td>337.14</td>\n",
       "      <td>0.0</td>\n",
       "      <td>0.00</td>\n",
       "      <td>0.0</td>\n",
       "      <td>0.00</td>\n",
       "      <td>92.00</td>\n",
       "      <td>0.0</td>\n",
       "      <td>0.0</td>\n",
       "      <td>833.48</td>\n",
       "      <td>0.00</td>\n",
       "    </tr>\n",
       "    <tr>\n",
       "      <th>2010-09-30</th>\n",
       "      <td>0.00</td>\n",
       "      <td>0.0</td>\n",
       "      <td>0.0</td>\n",
       "      <td>0.00</td>\n",
       "      <td>0.0</td>\n",
       "      <td>0.0</td>\n",
       "      <td>0.0</td>\n",
       "      <td>0.00</td>\n",
       "      <td>0.0</td>\n",
       "      <td>0.0</td>\n",
       "      <td>...</td>\n",
       "      <td>0.00</td>\n",
       "      <td>0.0</td>\n",
       "      <td>0.00</td>\n",
       "      <td>0.0</td>\n",
       "      <td>0.00</td>\n",
       "      <td>0.00</td>\n",
       "      <td>0.0</td>\n",
       "      <td>0.0</td>\n",
       "      <td>0.00</td>\n",
       "      <td>892.60</td>\n",
       "    </tr>\n",
       "  </tbody>\n",
       "</table>\n",
       "<p>10 rows × 4312 columns</p>\n",
       "</div>"
      ],
      "text/plain": [
       "Customer ID  12346.0  12347.0  12348.0  12349.0  12351.0  12352.0  12353.0  \\\n",
       "InvoiceDate                                                                  \n",
       "2009-12-31    113.50      0.0      0.0     0.00      0.0      0.0      0.0   \n",
       "2010-01-31     90.00      0.0      0.0     0.00      0.0      0.0      0.0   \n",
       "2010-02-28      0.00      0.0      0.0     0.00      0.0      0.0      0.0   \n",
       "2010-03-31     27.05      0.0      0.0     0.00      0.0      0.0      0.0   \n",
       "2010-04-30      0.00      0.0      0.0     0.00      0.0      0.0      0.0   \n",
       "2010-05-31      0.00      0.0      0.0  1268.52      0.0      0.0      0.0   \n",
       "2010-06-30      0.00      0.0      0.0     0.00      0.0      0.0      0.0   \n",
       "2010-07-31    142.31      0.0      0.0     0.00      0.0      0.0      0.0   \n",
       "2010-08-31      0.00      0.0      0.0     0.00      0.0      0.0      0.0   \n",
       "2010-09-30      0.00      0.0      0.0     0.00      0.0      0.0      0.0   \n",
       "\n",
       "Customer ID  12355.0  12356.0  12357.0  ...  18277.0  18278.0  18279.0  \\\n",
       "InvoiceDate                             ...                              \n",
       "2009-12-31      0.00      0.0      0.0  ...     0.00      0.0     0.00   \n",
       "2010-01-31      0.00      0.0      0.0  ...     0.00      0.0     0.00   \n",
       "2010-02-28      0.00      0.0      0.0  ...     0.00      0.0     0.00   \n",
       "2010-03-31      0.00      0.0      0.0  ...     0.00      0.0     0.00   \n",
       "2010-04-30      0.00      0.0      0.0  ...     0.00      0.0     0.00   \n",
       "2010-05-31    488.21      0.0      0.0  ...     0.00      0.0     0.00   \n",
       "2010-06-30      0.00      0.0      0.0  ...     0.00      0.0     0.00   \n",
       "2010-07-31      0.00      0.0      0.0  ...     0.00      0.0   231.34   \n",
       "2010-08-31      0.00      0.0      0.0  ...   337.14      0.0     0.00   \n",
       "2010-09-30      0.00      0.0      0.0  ...     0.00      0.0     0.00   \n",
       "\n",
       "Customer ID  18280.0  18281.0  18283.0  18284.0  18285.0  18286.0  18287.0  \n",
       "InvoiceDate                                                                 \n",
       "2009-12-31       0.0     0.00     0.00      0.0      0.0   462.95     0.00  \n",
       "2010-01-31       0.0     0.00     0.00      0.0      0.0     0.00     0.00  \n",
       "2010-02-28       0.0     0.00    96.90      0.0    427.0     0.00     0.00  \n",
       "2010-03-31       0.0     0.00   235.12      0.0      0.0     0.00     0.00  \n",
       "2010-04-30       0.0     0.00     0.00      0.0      0.0     0.00     0.00  \n",
       "2010-05-31       0.0   120.32     0.00      0.0      0.0     0.00  1071.61  \n",
       "2010-06-30       0.0     0.00     0.00      0.0      0.0     0.00     0.00  \n",
       "2010-07-31       0.0     0.00     0.00      0.0      0.0     0.00     0.00  \n",
       "2010-08-31       0.0     0.00    92.00      0.0      0.0   833.48     0.00  \n",
       "2010-09-30       0.0     0.00     0.00      0.0      0.0     0.00   892.60  \n",
       "\n",
       "[10 rows x 4312 columns]"
      ]
     },
     "execution_count": 8,
     "metadata": {},
     "output_type": "execute_result"
    }
   ],
   "source": [
    "# Time/customer Matrix sample\n",
    "\n",
    "customer_matrix = (data_clean_df.pipe(start_pipeline)\n",
    "                                .pipe(time_customer_matrix))\n",
    "\n",
    "customer_matrix.resample('M').sum().head(10)"
   ]
  },
  {
   "cell_type": "code",
   "execution_count": 9,
   "metadata": {},
   "outputs": [
    {
     "name": "stderr",
     "output_type": "stream",
     "text": [
      "11:25:07 - [ INFO] - start_pipeline took 0:00:00.020944 with result size = (400916, 8) --> OK\n",
      "11:25:09 - [ INFO] - time_customer_matrix took 0:00:02.430536 with result size = (54, 4312) --> OK\n",
      "11:25:09 - [ INFO] - adjusted_mean took 0:00:00.002993 with result size = (4312, 1) --> OK\n",
      "11:25:09 - [ INFO] - std_scaler took 0:00:00.001994 with result size = (4312, 1) --> OK\n"
     ]
    }
   ],
   "source": [
    "adjusted_mean = (data_clean_df.pipe(start_pipeline)\n",
    "                              .pipe(time_customer_matrix)\n",
    "                              .pipe(adjusted_mean)\n",
    "                              .pipe(std_scaler))"
   ]
  },
  {
   "cell_type": "code",
   "execution_count": 10,
   "metadata": {},
   "outputs": [
    {
     "name": "stderr",
     "output_type": "stream",
     "text": [
      "11:25:09 - [ INFO] - start_pipeline took 0:00:00.029921 with result size = (400916, 8) --> OK\n",
      "11:25:12 - [ INFO] - time_customer_matrix took 0:00:02.351745 with result size = (54, 4312) --> OK\n",
      "11:25:12 - [ INFO] - frequency took 0:00:00.001995 with result size = (4312, 1) --> OK\n",
      "11:25:12 - [ INFO] - std_scaler took 0:00:00.002993 with result size = (4312, 1) --> OK\n"
     ]
    }
   ],
   "source": [
    "frequency = (data_clean_df.pipe(start_pipeline)\n",
    "                          .pipe(time_customer_matrix)\n",
    "                          .pipe(frequency)\n",
    "                          .pipe(std_scaler))"
   ]
  },
  {
   "cell_type": "code",
   "execution_count": 11,
   "metadata": {},
   "outputs": [
    {
     "data": {
      "text/html": [
       "<div>\n",
       "<style scoped>\n",
       "    .dataframe tbody tr th:only-of-type {\n",
       "        vertical-align: middle;\n",
       "    }\n",
       "\n",
       "    .dataframe tbody tr th {\n",
       "        vertical-align: top;\n",
       "    }\n",
       "\n",
       "    .dataframe thead th {\n",
       "        text-align: right;\n",
       "    }\n",
       "</style>\n",
       "<table border=\"1\" class=\"dataframe\">\n",
       "  <thead>\n",
       "    <tr style=\"text-align: right;\">\n",
       "      <th></th>\n",
       "      <th>adj_mean</th>\n",
       "      <th>frequency</th>\n",
       "    </tr>\n",
       "  </thead>\n",
       "  <tbody>\n",
       "    <tr>\n",
       "      <th>count</th>\n",
       "      <td>4.312000e+03</td>\n",
       "      <td>4.312000e+03</td>\n",
       "    </tr>\n",
       "    <tr>\n",
       "      <th>mean</th>\n",
       "      <td>5.871025e-17</td>\n",
       "      <td>5.450701e-17</td>\n",
       "    </tr>\n",
       "    <tr>\n",
       "      <th>std</th>\n",
       "      <td>1.000116e+00</td>\n",
       "      <td>1.000116e+00</td>\n",
       "    </tr>\n",
       "    <tr>\n",
       "      <th>min</th>\n",
       "      <td>-7.637899e-01</td>\n",
       "      <td>-5.982648e-01</td>\n",
       "    </tr>\n",
       "    <tr>\n",
       "      <th>25%</th>\n",
       "      <td>-7.637899e-01</td>\n",
       "      <td>-5.982648e-01</td>\n",
       "    </tr>\n",
       "    <tr>\n",
       "      <th>50%</th>\n",
       "      <td>-2.898686e-01</td>\n",
       "      <td>-3.787330e-01</td>\n",
       "    </tr>\n",
       "    <tr>\n",
       "      <th>75%</th>\n",
       "      <td>3.500397e-01</td>\n",
       "      <td>6.033051e-02</td>\n",
       "    </tr>\n",
       "    <tr>\n",
       "      <th>max</th>\n",
       "      <td>1.340172e+01</td>\n",
       "      <td>1.037832e+01</td>\n",
       "    </tr>\n",
       "  </tbody>\n",
       "</table>\n",
       "</div>"
      ],
      "text/plain": [
       "           adj_mean     frequency\n",
       "count  4.312000e+03  4.312000e+03\n",
       "mean   5.871025e-17  5.450701e-17\n",
       "std    1.000116e+00  1.000116e+00\n",
       "min   -7.637899e-01 -5.982648e-01\n",
       "25%   -7.637899e-01 -5.982648e-01\n",
       "50%   -2.898686e-01 -3.787330e-01\n",
       "75%    3.500397e-01  6.033051e-02\n",
       "max    1.340172e+01  1.037832e+01"
      ]
     },
     "execution_count": 11,
     "metadata": {},
     "output_type": "execute_result"
    }
   ],
   "source": [
    "data_stats = pd.concat([adjusted_mean, frequency], axis=1)\n",
    "data_stats.describe()"
   ]
  },
  {
   "cell_type": "markdown",
   "metadata": {},
   "source": [
    "# 3. Optimal Number of Clusters by silhouette_score"
   ]
  },
  {
   "cell_type": "code",
   "execution_count": 17,
   "metadata": {},
   "outputs": [],
   "source": [
    "@timelog\n",
    "def optimal_number_clusters(clustering_model, data_stats, max_clusters = 10):\n",
    "    score = {}\n",
    "    for k in range(2, max_clusters):\n",
    "        labels = eval( f\"{clustering_model}(n_clusters={k}).fit_predict(data_stats.values)\")\n",
    "        score[k] = silhouette_score(data_stats.values, labels, metric = 'euclidean')\n",
    "        clusters_w_max_score = [max(score, key=score.get)]\n",
    "    return pd.DataFrame(clusters_w_max_score)\n",
    "\n",
    "@timelog\n",
    "def customer_clusters(df, num_clusters=2):\n",
    "    labels = pd.DataFrame(KMeans(n_clusters=num_clusters).fit_predict(df.values))\n",
    "    low_value_costumers = len(labels[labels==0].dropna().index.tolist())/len(labels.values)\n",
    "    high_value_costumers = len(labels[labels==1].dropna().index.tolist())/len(labels.values)\n",
    "    customer_clustering = pd.DataFrame([low_value_costumers*100, high_value_costumers*100], \n",
    "                                  index=['low_value_costumers','high_value_costumers'],\n",
    "                                  columns=['percentage'])\n",
    "    return customer_clustering\n",
    "\n",
    "def plotting_clusters_kmeans(df, num_clusters = 2):\n",
    "    labels = KMeans(n_clusters=num_clusters).fit_predict(df.values)\n",
    "    plt.style.use('ggplot')\n",
    "    fig = plt.scatter(df.values[:,0], df.values[:,1], c=labels, s=50, cmap ='brg', alpha=.2)\n",
    "    return fig;"
   ]
  },
  {
   "cell_type": "code",
   "execution_count": 18,
   "metadata": {},
   "outputs": [
    {
     "name": "stderr",
     "output_type": "stream",
     "text": [
      "11:28:52 - [ INFO] - optimal_number_clusters took 0:00:03.644279 with result size = (1, 1) --> OK\n"
     ]
    },
    {
     "name": "stdout",
     "output_type": "stream",
     "text": [
      "Optimal Number of Cluster for KMeans: [[2]] \n",
      "\n",
      "\n"
     ]
    },
    {
     "name": "stderr",
     "output_type": "stream",
     "text": [
      "11:29:18 - [ INFO] - optimal_number_clusters took 0:00:25.906037 with result size = (1, 1) --> OK\n"
     ]
    },
    {
     "name": "stdout",
     "output_type": "stream",
     "text": [
      "Optimal Number of Cluster for SpectralClustering: [[2]] \n",
      "\n",
      "\n"
     ]
    },
    {
     "name": "stderr",
     "output_type": "stream",
     "text": [
      "11:29:25 - [ INFO] - optimal_number_clusters took 0:00:07.466010 with result size = (1, 1) --> OK\n"
     ]
    },
    {
     "name": "stdout",
     "output_type": "stream",
     "text": [
      "Optimal Number of Cluster for AgglomerativeClustering: [[2]] \n",
      "\n",
      "\n"
     ]
    },
    {
     "name": "stderr",
     "output_type": "stream",
     "text": [
      "11:29:29 - [ INFO] - optimal_number_clusters took 0:00:03.844707 with result size = (1, 1) --> OK\n"
     ]
    },
    {
     "name": "stdout",
     "output_type": "stream",
     "text": [
      "Optimal Number of Cluster for Birch: [[2]] \n",
      "\n",
      "\n"
     ]
    }
   ],
   "source": [
    "clustering_models = { 'KMeans': KMeans(),\n",
    "                      'SpectralClustering':SpectralClustering(),\n",
    "                      'AgglomerativeClustering': AgglomerativeClustering(),\n",
    "                      'Birch': Birch() }\n",
    "\n",
    "for name, model in clustering_models.items():\n",
    "    print(f\"Optimal Number of Cluster for {name}: {optimal_number_clusters(name, data_stats).values} \\n\\n\")\n",
    "    "
   ]
  },
  {
   "cell_type": "code",
   "execution_count": 19,
   "metadata": {},
   "outputs": [
    {
     "name": "stderr",
     "output_type": "stream",
     "text": [
      "11:29:55 - [ INFO] - customer_clusters took 0:00:00.067817 with result size = (2, 1) --> OK\n"
     ]
    },
    {
     "data": {
      "text/html": [
       "<div>\n",
       "<style scoped>\n",
       "    .dataframe tbody tr th:only-of-type {\n",
       "        vertical-align: middle;\n",
       "    }\n",
       "\n",
       "    .dataframe tbody tr th {\n",
       "        vertical-align: top;\n",
       "    }\n",
       "\n",
       "    .dataframe thead th {\n",
       "        text-align: right;\n",
       "    }\n",
       "</style>\n",
       "<table border=\"1\" class=\"dataframe\">\n",
       "  <thead>\n",
       "    <tr style=\"text-align: right;\">\n",
       "      <th></th>\n",
       "      <th>percentage</th>\n",
       "    </tr>\n",
       "  </thead>\n",
       "  <tbody>\n",
       "    <tr>\n",
       "      <th>low_value_costumers</th>\n",
       "      <td>86.479592</td>\n",
       "    </tr>\n",
       "    <tr>\n",
       "      <th>high_value_costumers</th>\n",
       "      <td>13.520408</td>\n",
       "    </tr>\n",
       "  </tbody>\n",
       "</table>\n",
       "</div>"
      ],
      "text/plain": [
       "                      percentage\n",
       "low_value_costumers    86.479592\n",
       "high_value_costumers   13.520408"
      ]
     },
     "execution_count": 19,
     "metadata": {},
     "output_type": "execute_result"
    }
   ],
   "source": [
    "customer_clusters(data_stats)"
   ]
  },
  {
   "cell_type": "markdown",
   "metadata": {},
   "source": [
    "As a conclusion, it is not difficult to see that all the models look to separate between two different kind of customers: \n",
    "1. **highly stable and profitable customers** (with high frequecy buys and high adj_mean total value customer) clients \n",
    "2. **sporadic or random customers** (with low frequency and /or low total and/or high volatile total amount per invoice)"
   ]
  },
  {
   "cell_type": "code",
   "execution_count": 21,
   "metadata": {},
   "outputs": [
    {
     "data": {
      "image/png": "[encoded data removed]",
      "text/plain": [
       "<Figure size 720x360 with 1 Axes>"
      ]
     },
     "metadata": {},
     "output_type": "display_data"
    }
   ],
   "source": [
    "plotting_clusters_kmeans(data_stats, num_clusters = 2);"
   ]
  },
  {
   "cell_type": "markdown",
   "metadata": {},
   "source": [
    "# 4. Churning probabilistic models"
   ]
  },
  {
   "cell_type": "markdown",
   "metadata": {},
   "source": [
    "#### TODO: it has to be done ONLY over the more frequent and valueable group of customers (splitted in previous section), and there is several methodologies (all coming from Queueing theory and Markov Chains), here the easiest ones:\n",
    "##### 1. Use dicrete Markov Chain: parametrize a transition matrix of states 'buy/no_buy_tomorrow // bought/no_bought_yesterday'\n",
    "##### 2. Using continuous Markov Chains: parametrize exponential function for time between two buys."
   ]
  },
  {
   "cell_type": "code",
   "execution_count": null,
   "metadata": {},
   "outputs": [],
   "source": []
  }
 ],
 "metadata": {
  "kernelspec": {
   "display_name": "Python 3",
   "language": "python",
   "name": "python3"
  },
  "language_info": {
   "codemirror_mode": {
    "name": "ipython",
    "version": 3
   },
   "file_extension": ".py",
   "mimetype": "text/x-python",
   "name": "python",
   "nbconvert_exporter": "python",
   "pygments_lexer": "ipython3",
   "version": "3.6.10"
  }
 },
 "nbformat": 4,
 "nbformat_minor": 4
}
