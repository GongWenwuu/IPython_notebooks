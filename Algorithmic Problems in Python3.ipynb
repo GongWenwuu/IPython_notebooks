{
 "cells": [
  {
   "cell_type": "markdown",
   "metadata": {},
   "source": [
    "****\n",
    "# Algorithmic Problems solved in Python 3.5 (cont.)\n",
    "****\n",
    "<p style=\"text-align: right\"><i>Jesus Perez Colino<br>First version: November 2018<br></i></p>\n",
    "\n",
    "## About this notebook: \n",
    "****\n",
    "Notebook prepared by **Jesus Perez Colino** Version 0.2, First Released: 25/11/2018, Alpha\n",
    "\n",
    "- This work is licensed under a [Creative Commons Attribution-ShareAlike 3.0 Unported License](http://creativecommons.org/licenses/by-sa/3.0/deed.en_US). This work is offered for free, with the hope that it will be useful.\n",
    "\n",
    "\n",
    "- **Summary**: This notebook is a continuation of the previous notebooks in algorithmic problems, but this time for Python 3.5. Some of them are well-know in Computer Science (searching, sorting...), and other are more functional programming oriented or mathematically based. It includes examples of list comprenhension, map/reduce functions, generators, decorators, HPC simulations...\n",
    "\n",
    "\n",
    "- **Index**:\n",
    "    - Problem 1: Is Fibonacci? (...because is tradition) \n",
    "    - Problem 2: Charles Babbage's homage\n",
    "    - Problem 3: Dynamic programming \n",
    "    - Problem 4: Knapsack problem"
   ]
  },
  {
   "cell_type": "code",
   "execution_count": 2,
   "metadata": {},
   "outputs": [
    {
     "name": "stdout",
     "output_type": "stream",
     "text": [
      "-------------------- Reproducibility conditions for this notebook -------------------\n",
      "Python version:     3.5.5 |Anaconda custom (64-bit)| (default, Mar 12 2018, 16:25:05) \n",
      "[GCC 4.2.1 Compatible Clang 4.0.1 (tags/RELEASE_401/final)]\n",
      "Numpy version:      1.14.2\n",
      "IPython version:    6.2.1\n",
      "-------------------------------------------------------------------------------------\n"
     ]
    }
   ],
   "source": [
    "import IPython\n",
    "import numpy as np\n",
    "from sys import version \n",
    "print(' Reproducibility conditions for this notebook '.center(85,'-'))\n",
    "print('Python version:     ' + version)\n",
    "print('Numpy version:      ' + np.__version__)\n",
    "print('IPython version:    ' + IPython.__version__)\n",
    "print('-'*85)"
   ]
  },
  {
   "cell_type": "markdown",
   "metadata": {},
   "source": [
    "## Problem 1: Is Fibonacci?\n",
    "\n",
    "Given a list of integers `mylist`, write a program to determine if any of the elements in `mylist` is an element of the Fibonacci sequence."
   ]
  },
  {
   "cell_type": "code",
   "execution_count": 21,
   "metadata": {},
   "outputs": [],
   "source": [
    "def solve(mylist):\n",
    "    fibo_list = [0, 1]\n",
    "    next_fib = sum(fibo_list[-2:])\n",
    "    while next_fib < max(mylist)+1:\n",
    "        fibo_list.append(next_fib)\n",
    "        next_fib =  sum(fibo_list[-2:])\n",
    "    for element in mylist:\n",
    "        if element in fibo_list: print('{} is in the Fib. sequence'.format(element))\n",
    "        else: print('{} is not in the Fib. sequence'.format(element))\n",
    "    return"
   ]
  },
  {
   "cell_type": "code",
   "execution_count": 22,
   "metadata": {},
   "outputs": [
    {
     "name": "stdout",
     "output_type": "stream",
     "text": [
      "2 is in the Fib. sequence\n",
      "3 is in the Fib. sequence\n",
      "4 is not in the Fib. sequence\n",
      "5 is in the Fib. sequence\n",
      "6 is not in the Fib. sequence\n",
      "7 is not in the Fib. sequence\n",
      "8 is in the Fib. sequence\n"
     ]
    }
   ],
   "source": [
    "my_list = [2,3,4,5,6,7,8]\n",
    "solve(my_list)"
   ]
  },
  {
   "cell_type": "markdown",
   "metadata": {},
   "source": [
    "## Problem 2: Charles Babbage's homage\n",
    "\n",
    "Charles Babbage (1791 - 1871) loooking ahead to the sorts of problems his Analytical Engine would be able to solve, gave this example:\n",
    "> What's the smallest positive integer whose square ends in the digits 269,696?\n",
    "\n",
    "He thought the answer might be 99,736, whose square is 9,947,269,696 but he could not be certain..."
   ]
  },
  {
   "cell_type": "code",
   "execution_count": 16,
   "metadata": {},
   "outputs": [
    {
     "name": "stdout",
     "output_type": "stream",
     "text": [
      "25264 squared is equal to 638269696 and it ends in  269696\n"
     ]
    }
   ],
   "source": [
    "x = [x for x in range(100000) if (x*x) % 1000000 == 269696][0]\n",
    "print(x, 'squared is equal to', x*x, 'and it ends in ', str(x*x)[-6:])"
   ]
  },
  {
   "cell_type": "code",
   "execution_count": 75,
   "metadata": {},
   "outputs": [
    {
     "name": "stdout",
     "output_type": "stream",
     "text": [
      "25264 squared is equal to 638269696 and it ends in  269696\n"
     ]
    }
   ],
   "source": [
    "x = [x for x in range(100000) if str(x*x)[-6:]== '269696'][0]\n",
    "print(x, 'squared is equal to', x*x, 'and it ends in ', str(x*x)[-6:])"
   ]
  },
  {
   "cell_type": "markdown",
   "metadata": {},
   "source": [
    "## Problem 3: Dynamic programming\n",
    "\n",
    "Find the number of sets of integers in `[ 2, 4, 6, 10 ]` that add up to `16`"
   ]
  },
  {
   "cell_type": "code",
   "execution_count": 53,
   "metadata": {},
   "outputs": [],
   "source": [
    "# First solution: recursive version (no optimal)\n",
    "\n",
    "def recursive(array, total, i): \n",
    "    if total == 0 : \n",
    "        return 1\n",
    "    elif total < 0 : \n",
    "        return 0\n",
    "    elif i < 0 : \n",
    "        return 0\n",
    "    elif total < array[i]: \n",
    "        return recursive(array, total, i-1)\n",
    "    else: \n",
    "        return recursive(array, total - array[i], i-1) + recursive(array, total, i-1)\n",
    "    \n",
    "\n",
    "def count_set(array, total):\n",
    "    return recursive(array, total, len(array)-1)\n"
   ]
  },
  {
   "cell_type": "code",
   "execution_count": 56,
   "metadata": {},
   "outputs": [],
   "source": [
    "myarray = [2,4,6,10]\n",
    "total_sum = 16"
   ]
  },
  {
   "cell_type": "code",
   "execution_count": 63,
   "metadata": {},
   "outputs": [
    {
     "data": {
      "text/plain": [
       "2"
      ]
     },
     "execution_count": 63,
     "metadata": {},
     "output_type": "execute_result"
    }
   ],
   "source": [
    "\n",
    "count_set(myarray, total_sum)"
   ]
  },
  {
   "cell_type": "code",
   "execution_count": 50,
   "metadata": {},
   "outputs": [],
   "source": [
    "# Second solution: dynamic programming solution (memoizing)\n",
    "\n",
    "def count_sets_dp(array, total):\n",
    "    mem = {}\n",
    "    return dp(array, total, len(array)-1, mem)\n",
    "\n",
    "def dp(array, total, i, mem):\n",
    "    key = str(total) + ':' + str(i)\n",
    "    if key in mem:\n",
    "        return mem[key]\n",
    "    elif total == 0:\n",
    "        return 1\n",
    "    elif total < 0:\n",
    "        return 0\n",
    "    elif i < 0:\n",
    "        return 0\n",
    "    elif total < array[i]:\n",
    "        to_return = dp(array, total, i-1, mem)\n",
    "    else: \n",
    "        to_return = dp(array, total-array[i], i-1, mem) \\\n",
    "                    + dp(array, total, i-1, mem)\n",
    "        \n",
    "    mem[key] = to_return\n",
    "    return to_return\n"
   ]
  },
  {
   "cell_type": "code",
   "execution_count": 62,
   "metadata": {},
   "outputs": [
    {
     "data": {
      "text/plain": [
       "2"
      ]
     },
     "execution_count": 62,
     "metadata": {},
     "output_type": "execute_result"
    }
   ],
   "source": [
    "\n",
    "count_sets_dp(a, total_sum)    \n"
   ]
  },
  {
   "cell_type": "markdown",
   "metadata": {},
   "source": [
    "## Problem 4: Knapsack problem\n",
    "\n",
    "Given a set of items, each with a weight and a value, determine the number of each item to include in a collection, so that the total weight is less or equal to a given limit and the total value is as larger as possible."
   ]
  },
  {
   "cell_type": "code",
   "execution_count": 17,
   "metadata": {},
   "outputs": [],
   "source": [
    "# list of items: tuple of tuples of ('name', weight, value)\n",
    "\n",
    "items = (\n",
    "    (\"map\", 9, 150), (\"compass\", 13, 35), (\"water\", 153, 200), (\"sandwich\", 50, 160),\n",
    "    (\"glucose\", 15, 60), (\"tin\", 68, 45), (\"banana\", 27, 60), (\"apple\", 39, 40),\n",
    "    (\"cheese\", 23, 30), (\"beer\", 52, 10), (\"suntan cream\", 11, 70), (\"camera\", 32, 30),\n",
    "    (\"t-shirt\", 24, 15), (\"trousers\", 48, 10), (\"umbrella\", 73, 40),\n",
    "    (\"waterproof trousers\", 42, 70), (\"waterproof overclothes\", 43, 75),\n",
    "    (\"note-case\", 22, 80), (\"sunglasses\", 7, 20), (\"towel\", 18, 12),\n",
    "    (\"socks\", 4, 50), (\"book\", 30, 10),\n",
    "    )\n",
    "\n",
    "max_weight = 400"
   ]
  },
  {
   "cell_type": "code",
   "execution_count": 18,
   "metadata": {},
   "outputs": [],
   "source": [
    "def total_value(items, max_weight):\n",
    "    return sum([x[2] for x in items]) if sum([x[1] for x in items])<max_weight else 0"
   ]
  },
  {
   "cell_type": "code",
   "execution_count": 45,
   "metadata": {},
   "outputs": [],
   "source": [
    "# Recursive dynamic algorithmic solution\n",
    "\n",
    "cache = {}\n",
    "def solve(items, max_weight):\n",
    "    if not items:\n",
    "        return()\n",
    "    if (items, max_weight) not in cache:\n",
    "        head = items[0]\n",
    "        tail = items[1:]\n",
    "        include = (head,) + solve(tail, max_weight - head[1])\n",
    "        dont_include = solve(tail, max_weight)\n",
    "        if total_value(include, max_weight) > total_value(dont_include, max_weight):\n",
    "            answer = include\n",
    "        else:\n",
    "            answer = dont_include\n",
    "        cache[(items, max_weight)] = answer\n",
    "    return cache[(items, max_weight)]\n",
    "\n"
   ]
  },
  {
   "cell_type": "code",
   "execution_count": 47,
   "metadata": {},
   "outputs": [
    {
     "name": "stdout",
     "output_type": "stream",
     "text": [
      "items: \n",
      "map\n",
      "compass\n",
      "water\n",
      "sandwich\n",
      "glucose\n",
      "banana\n",
      "suntan cream\n",
      "waterproof trousers\n",
      "waterproof overclothes\n",
      "note-case\n",
      "sunglasses\n",
      "socks\n",
      "====================\n",
      "value:  1030\n",
      "weight:  396\n",
      "====================\n"
     ]
    }
   ],
   "source": [
    "cache = {}\n",
    "solution = solve(items, max_weight)\n",
    "\n",
    "print('items: ')\n",
    "for x in solution: print(x[0])\n",
    "print('='*20)\n",
    "print('value: ', total_value(solution, max_weight))\n",
    "print('weight: ', sum([x[1] for x in solution]))\n",
    "print('='*20)"
   ]
  },
  {
   "cell_type": "code",
   "execution_count": null,
   "metadata": {},
   "outputs": [],
   "source": []
  }
 ],
 "metadata": {
  "kernelspec": {
   "display_name": "Python [conda env:py35]",
   "language": "python",
   "name": "conda-env-py35-py"
  },
  "language_info": {
   "codemirror_mode": {
    "name": "ipython",
    "version": 2
   },
   "file_extension": ".py",
   "mimetype": "text/x-python",
   "name": "python",
   "nbconvert_exporter": "python",
   "pygments_lexer": "ipython2",
   "version": "2.7.14"
  }
 },
 "nbformat": 4,
 "nbformat_minor": 2
}
